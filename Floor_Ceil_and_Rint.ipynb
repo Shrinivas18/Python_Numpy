{
  "nbformat": 4,
  "nbformat_minor": 0,
  "metadata": {
    "colab": {
      "provenance": [],
      "authorship_tag": "ABX9TyO+NQttk4c0/ju2QvG3M8Pi",
      "include_colab_link": true
    },
    "kernelspec": {
      "name": "python3",
      "display_name": "Python 3"
    },
    "language_info": {
      "name": "python"
    }
  },
  "cells": [
    {
      "cell_type": "markdown",
      "metadata": {
        "id": "view-in-github",
        "colab_type": "text"
      },
      "source": [
        "<a href=\"https://colab.research.google.com/github/Shrinivas18/Python_Numpy/blob/main/Floor_Ceil_and_Rint.ipynb\" target=\"_parent\"><img src=\"https://colab.research.google.com/assets/colab-badge.svg\" alt=\"Open In Colab\"/></a>"
      ]
    },
    {
      "cell_type": "code",
      "source": [
        "# Floor, Ceil and Rint\n",
        "\n",
        "# floor \n",
        "# The tool floor returns the floor of the input element-wise. \n",
        "# The floor of  is the largest integer i where i <= x.\n",
        "\n",
        "# import numpy\n",
        "\n",
        "# my_array = numpy.array([1.1, 2.2, 3.3, 4.4, 5.5, 6.6, 7.7, 8.8, 9.9])\n",
        "# print numpy.floor(my_array)         #[ 1.  2.  3.  4.  5.  6.  7.  8.  9.]\n",
        "\n",
        "# ceil \n",
        "# The tool ceil returns the ceiling of the input element-wise. \n",
        "# The ceiling of  is the smallest integer  where .\n",
        "\n",
        "# import numpy\n",
        "\n",
        "# my_array = numpy.array([1.1, 2.2, 3.3, 4.4, 5.5, 6.6, 7.7, 8.8, 9.9])\n",
        "# print numpy.ceil(my_array)          #[  2.   3.   4.   5.   6.   7.   8.   9.  10.]\n",
        "\n",
        "# rint \n",
        "# The rint tool rounds to the nearest integer of input element-wise.\n",
        "\n",
        "# import numpy\n",
        "\n",
        "# my_array = numpy.array([1.1, 2.2, 3.3, 4.4, 5.5, 6.6, 7.7, 8.8, 9.9])\n",
        "# print numpy.rint(my_array)          #[  1.   2.   3.   4.   6.   7.   8.   9.  10.]\n",
        "\n",
        "# Task \n",
        "# You are given a 1-D array, A. Your task is to print the floor, ceil and rint of all the elements of A.\n",
        "\n",
        "# Input Format\n",
        "# A single line of input containing the space separated elements of array A.\n",
        "\n",
        "# Output Format\n",
        "# On the first line, print the floor of A. \n",
        "# On the second line, print the ceil of A. \n",
        "# On the third line, print the rint of A.\n",
        "\n",
        "\n",
        "import numpy\n",
        "\n",
        "A = numpy.array(input().split(), float)\n",
        "print(numpy.floor(A))\n",
        "print(numpy.ceil(A))\n",
        "print(numpy.rint(A))"
      ],
      "metadata": {
        "colab": {
          "base_uri": "https://localhost:8080/"
        },
        "id": "3g6u_nMPSfXH",
        "outputId": "3306ad25-087e-4dc9-b2fd-ad527cef4246"
      },
      "execution_count": 16,
      "outputs": [
        {
          "output_type": "stream",
          "name": "stdout",
          "text": [
            "2.4 2.9 3.6 4.2\n",
            "[2. 2. 3. 4.]\n",
            "[3. 3. 4. 5.]\n",
            "[2. 3. 4. 4.]\n"
          ]
        }
      ]
    }
  ]
}