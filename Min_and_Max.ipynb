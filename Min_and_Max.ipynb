{
  "nbformat": 4,
  "nbformat_minor": 0,
  "metadata": {
    "colab": {
      "provenance": [],
      "authorship_tag": "ABX9TyOt/ykcNU9ul8MC7JBuvmsn",
      "include_colab_link": true
    },
    "kernelspec": {
      "name": "python3",
      "display_name": "Python 3"
    },
    "language_info": {
      "name": "python"
    }
  },
  "cells": [
    {
      "cell_type": "markdown",
      "metadata": {
        "id": "view-in-github",
        "colab_type": "text"
      },
      "source": [
        "<a href=\"https://colab.research.google.com/github/Shrinivas18/Python_Numpy/blob/main/Min_and_Max.ipynb\" target=\"_parent\"><img src=\"https://colab.research.google.com/assets/colab-badge.svg\" alt=\"Open In Colab\"/></a>"
      ]
    },
    {
      "cell_type": "code",
      "source": [
        "# Min and Max\n",
        "\n",
        "# Task\n",
        "# You are given a 2-D array with dimensions NxM. \n",
        "# Your task is to perform the min function over axis 1 and then find the max of that.\n",
        "\n",
        "# Input Format\n",
        "# The first line of input contains the space separated values of N and M. \n",
        "# The next N lines contains M space separated integers.\n",
        "\n",
        "# Output Format\n",
        "# Compute the min along axis 1 and then print the max of that result.\n",
        "\n",
        "\n",
        "import numpy\n",
        "\n",
        "n,m=map(int,input().split())\n",
        "\n",
        "lista=[list(map(int,input().split())) for i in range(n)]\n",
        "\n",
        "ar=numpy.array(lista)\n",
        "\n",
        "print(max(numpy.min(ar,axis=1)))"
      ],
      "metadata": {
        "colab": {
          "base_uri": "https://localhost:8080/"
        },
        "id": "_pzzeRjvJsAi",
        "outputId": "b3f82fe3-b123-4929-b81c-ef7b393a9bb5"
      },
      "execution_count": 8,
      "outputs": [
        {
          "output_type": "stream",
          "name": "stdout",
          "text": [
            "3 3\n",
            "1 2 3\n",
            "2 3 4\n",
            "4 5 6\n",
            "4\n"
          ]
        }
      ]
    }
  ]
}