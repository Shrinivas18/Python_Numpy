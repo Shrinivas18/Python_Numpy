{
  "nbformat": 4,
  "nbformat_minor": 0,
  "metadata": {
    "colab": {
      "provenance": [],
      "authorship_tag": "ABX9TyPeCrfAZbr3EnONMF+vfKL4",
      "include_colab_link": true
    },
    "kernelspec": {
      "name": "python3",
      "display_name": "Python 3"
    },
    "language_info": {
      "name": "python"
    }
  },
  "cells": [
    {
      "cell_type": "markdown",
      "metadata": {
        "id": "view-in-github",
        "colab_type": "text"
      },
      "source": [
        "<a href=\"https://colab.research.google.com/github/Shrinivas18/Python_Numpy/blob/main/Sum_and_Product.ipynb\" target=\"_parent\"><img src=\"https://colab.research.google.com/assets/colab-badge.svg\" alt=\"Open In Colab\"/></a>"
      ]
    },
    {
      "cell_type": "code",
      "source": [
        "# Sum and Prod\n",
        "\n",
        "# Task\n",
        "# You are given a 2-D array with dimensions N X M. \n",
        "# Your task is to perform the sum tool over axis 0 and then find the product of that result.\n",
        "\n",
        "# Input Format\n",
        "# The first line of input contains space separated values of N and M. \n",
        "# The next N lines contains M space separated integers.\n",
        "\n",
        "# Output Format\n",
        "# Compute the sum along axis 0. Then, print the product of that sum.\n",
        "\n",
        "\n",
        "import numpy\n",
        "N, M = map(int, input().split())\n",
        "A = numpy.array([input().split() for _ in range(N)],int)\n",
        "print(numpy.prod(numpy.sum(A, axis=0), axis=0))"
      ],
      "metadata": {
        "colab": {
          "base_uri": "https://localhost:8080/"
        },
        "id": "_pzzeRjvJsAi",
        "outputId": "2ddd9ba2-80c6-45f2-dd3a-c23ed57bf216"
      },
      "execution_count": 14,
      "outputs": [
        {
          "output_type": "stream",
          "name": "stdout",
          "text": [
            "2 2\n",
            "1 2\n",
            "2 3\n",
            "15\n"
          ]
        }
      ]
    }
  ]
}