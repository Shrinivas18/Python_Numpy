{
  "nbformat": 4,
  "nbformat_minor": 0,
  "metadata": {
    "colab": {
      "provenance": [],
      "authorship_tag": "ABX9TyMbjMBvfoyiiXddS1y2/T9G",
      "include_colab_link": true
    },
    "kernelspec": {
      "name": "python3",
      "display_name": "Python 3"
    },
    "language_info": {
      "name": "python"
    }
  },
  "cells": [
    {
      "cell_type": "markdown",
      "metadata": {
        "id": "view-in-github",
        "colab_type": "text"
      },
      "source": [
        "<a href=\"https://colab.research.google.com/github/Shrinivas18/Python_Numpy/blob/main/Eye_and_Identity.ipynb\" target=\"_parent\"><img src=\"https://colab.research.google.com/assets/colab-badge.svg\" alt=\"Open In Colab\"/></a>"
      ]
    },
    {
      "cell_type": "code",
      "source": [
        "# Eye and Identity\n",
        "\n",
        "# identity\n",
        "# The identity tool returns an identity array. An identity array is a square matrix with all the main diagonal elements as 1 and the rest\n",
        "# as 0. The default type of elements is float.\n",
        "\n",
        "# import numpy\n",
        "# print numpy.identity(3) #3 is for  dimension 3 X 3\n",
        "\n",
        "# Output\n",
        "# [[ 1.  0.  0.]\n",
        "#  [ 0.  1.  0.]\n",
        "#  [ 0.  0.  1.]]\n",
        "\n",
        "# eye\n",
        "# The eye tool returns a 2-D array with 1's as the diagonal and 0's elsewhere. The diagonal can be main, upper or lower depending on the\n",
        "# optional parameter k. A positive k is for the upper diagonal, a negative k is for the lower, and a 0 k (default) is for the main\n",
        "# diagonal.\n",
        "\n",
        "# import numpy\n",
        "# print numpy.eye(8, 7, k = 1)    # 8 X 7 Dimensional array with first upper diagonal 1.\n",
        "\n",
        "#Output\n",
        "# [[ 0.  1.  0.  0.  0.  0.  0.]\n",
        "#  [ 0.  0.  1.  0.  0.  0.  0.]\n",
        "#  [ 0.  0.  0.  1.  0.  0.  0.]\n",
        "#  [ 0.  0.  0.  0.  1.  0.  0.]\n",
        "#  [ 0.  0.  0.  0.  0.  1.  0.]\n",
        "#  [ 0.  0.  0.  0.  0.  0.  1.]\n",
        "#  [ 0.  0.  0.  0.  0.  0.  0.]\n",
        "#  [ 0.  0.  0.  0.  0.  0.  0.]]\n",
        "\n",
        "# print numpy.eye(8, 7, k = -2)   # 8 X 7 Dimensional array with second lower diagonal 1.\n",
        "\n",
        "# Task\n",
        "# Your task is to print an array of size NxM with its main diagonal elements as 1's and 0's everywhere else.\n",
        "\n",
        "# Input Format\n",
        "# A single line containing the space separated values of N and M. \n",
        "# N denotes the rows. \n",
        "# M denotes the columns.\n",
        "\n",
        "# Output Format\n",
        "# Print the desired NxM array.\n",
        "\n",
        "# Sample Input\n",
        "# 3 3\n",
        "\n",
        "# Sample Output\n",
        "# [[ 1.  0.  0.]\n",
        "#  [ 0.  1.  0.]\n",
        "#  [ 0.  0.  1.]]\n",
        "\n",
        "\n",
        "import numpy as np\n",
        " \n",
        "b = np.eye(2, dtype = float)\n",
        "print(\"Eye of matrix :\\n\")\n",
        "print(\"Matrix b : \\n\", b)\n",
        " \n",
        "a = np.eye(4, 5, k = -1)\n",
        "print(\"\\nMatrix a : \\n\", a)\n",
        "\n",
        "print(\"\\nIdentity of matrix :\\n\")\n",
        "\n",
        "c = np.identity(2, dtype = float)\n",
        "print(\"Matrix c : \\n\", c)\n",
        " \n",
        "d = np.identity(4)\n",
        "print(\"\\nMatrix d : \\n\", d)"
      ],
      "metadata": {
        "colab": {
          "base_uri": "https://localhost:8080/"
        },
        "id": "3g6u_nMPSfXH",
        "outputId": "b06cb4d8-6212-4525-d390-a30fabb8b711"
      },
      "execution_count": 14,
      "outputs": [
        {
          "output_type": "stream",
          "name": "stdout",
          "text": [
            "Eye of matrix :\n",
            "\n",
            "Matrix b : \n",
            " [[1. 0.]\n",
            " [0. 1.]]\n",
            "\n",
            "Matrix a : \n",
            " [[0. 0. 0. 0. 0.]\n",
            " [1. 0. 0. 0. 0.]\n",
            " [0. 1. 0. 0. 0.]\n",
            " [0. 0. 1. 0. 0.]]\n",
            "\n",
            "Identity of matrix :\n",
            "\n",
            "Matrix c : \n",
            " [[1. 0.]\n",
            " [0. 1.]]\n",
            "\n",
            "Matrix d : \n",
            " [[1. 0. 0. 0.]\n",
            " [0. 1. 0. 0.]\n",
            " [0. 0. 1. 0.]\n",
            " [0. 0. 0. 1.]]\n"
          ]
        }
      ]
    }
  ]
}