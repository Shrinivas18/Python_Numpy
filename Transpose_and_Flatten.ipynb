{
  "nbformat": 4,
  "nbformat_minor": 0,
  "metadata": {
    "colab": {
      "provenance": [],
      "authorship_tag": "ABX9TyN7GLO4MJcAmKX5l0wcypYX",
      "include_colab_link": true
    },
    "kernelspec": {
      "name": "python3",
      "display_name": "Python 3"
    },
    "language_info": {
      "name": "python"
    }
  },
  "cells": [
    {
      "cell_type": "markdown",
      "metadata": {
        "id": "view-in-github",
        "colab_type": "text"
      },
      "source": [
        "<a href=\"https://colab.research.google.com/github/Shrinivas18/Python_Numpy/blob/main/Transpose_and_Flatten.ipynb\" target=\"_parent\"><img src=\"https://colab.research.google.com/assets/colab-badge.svg\" alt=\"Open In Colab\"/></a>"
      ]
    },
    {
      "cell_type": "code",
      "source": [
        "# Transpose\n",
        "\n",
        "# We can generate the transposition of an array using the tool numpy.transpose. \n",
        "# It will not affect the original array, but it will create a new array.\n",
        "\n",
        "# Flatten\n",
        "\n",
        "# The tool flatten creates a copy of the input array flattened to one dimension.\n",
        "\n",
        "# Task\n",
        "# You are given a N X M integer array matrix with space separated elements (N = rows and M = columns). \n",
        "# Your task is to print the transpose and flatten results.\n",
        "\n",
        "# Input Format\n",
        "# The first line contains the space separated values of N and M. \n",
        "# The next N lines contains the space separated elements of M columns.\n",
        "\n",
        "# Output Format\n",
        "# First, print the transpose array and then print the flatten.\n",
        "\n",
        "import numpy\n",
        "n, m = map(int, input().split())\n",
        "array = numpy.array([input().strip().split() for _ in range(n)], int)\n",
        "print (array.transpose())\n",
        "print (array.flatten())"
      ],
      "metadata": {
        "colab": {
          "base_uri": "https://localhost:8080/"
        },
        "id": "_pzzeRjvJsAi",
        "outputId": "1d3a40c8-6dbc-479f-d169-1cf99c4dc013"
      },
      "execution_count": 15,
      "outputs": [
        {
          "output_type": "stream",
          "name": "stdout",
          "text": [
            "3 3\n",
            "1 2 3\n",
            "4 5 6\n",
            "7 8 9\n",
            "[[1 4 7]\n",
            " [2 5 8]\n",
            " [3 6 9]]\n",
            "[1 2 3 4 5 6 7 8 9]\n"
          ]
        }
      ]
    }
  ]
}