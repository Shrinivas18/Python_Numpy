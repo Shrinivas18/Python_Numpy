{
  "nbformat": 4,
  "nbformat_minor": 0,
  "metadata": {
    "colab": {
      "provenance": [],
      "authorship_tag": "ABX9TyOkBbmk+i3dlDdycqCk52gP",
      "include_colab_link": true
    },
    "kernelspec": {
      "name": "python3",
      "display_name": "Python 3"
    },
    "language_info": {
      "name": "python"
    }
  },
  "cells": [
    {
      "cell_type": "markdown",
      "metadata": {
        "id": "view-in-github",
        "colab_type": "text"
      },
      "source": [
        "<a href=\"https://colab.research.google.com/github/Shrinivas18/Python_Numpy/blob/main/Shape_and_Reshape.ipynb\" target=\"_parent\"><img src=\"https://colab.research.google.com/assets/colab-badge.svg\" alt=\"Open In Colab\"/></a>"
      ]
    },
    {
      "cell_type": "code",
      "source": [
        "# Shape and Reshape\n",
        "\n",
        "# shape\n",
        "\n",
        "# The shape tool gives a tuple of array dimensions and can be used to change the dimensions of an array.\n",
        "\n",
        "# (a). Using shape to get array dimensions\n",
        "\n",
        "# import numpy\n",
        "\n",
        "# my__1D_array = numpy.array([1, 2, 3, 4, 5])\n",
        "# print my_1D_array.shape     #(5,) -> 5 rows and 0 columns\n",
        "\n",
        "# my__2D_array = numpy.array([[1, 2],[3, 4],[6,5]])\n",
        "# print my_2D_array.shape     #(3, 2) -> 3 rows and 2 columns \n",
        "\n",
        "# (b). Using shape to change array dimensions\n",
        "\n",
        "# import numpy\n",
        "\n",
        "# change_array = numpy.array([1,2,3,4,5,6])\n",
        "# change_array.shape = (3, 2)\n",
        "# print change_array      \n",
        "\n",
        "#Output\n",
        "# [[1 2]\n",
        "# [3 4]\n",
        "# [5 6]]\n",
        "\n",
        "# reshape\n",
        "# The reshape tool gives a new shape to an array without changing its data. It creates a new array and does not modify the original\n",
        "# array itself.\n",
        "\n",
        "# import numpy\n",
        "\n",
        "# my_array = numpy.array([1,2,3,4,5,6])\n",
        "# print numpy.reshape(my_array,(3,2))\n",
        "\n",
        "#Output\n",
        "# [[1 2]\n",
        "# [3 4]\n",
        "# [5 6]]\n",
        "\n",
        "# Task\n",
        "\n",
        "# You are given a space separated list of nine integers. Your task is to convert this list into a 3X3 NumPy array.\n",
        "\n",
        "# Input Format\n",
        "# A single line of input containing 9 space separated integers.\n",
        "\n",
        "# Output Format\n",
        "# Print the 3X3 NumPy array.\n",
        "\n",
        "import numpy as np\n",
        "print(np.array(input().split(),int).reshape(3,3))"
      ],
      "metadata": {
        "colab": {
          "base_uri": "https://localhost:8080/"
        },
        "id": "_pzzeRjvJsAi",
        "outputId": "d1077ab3-bd72-4ef4-94ce-a54e9f3a529a"
      },
      "execution_count": 13,
      "outputs": [
        {
          "output_type": "stream",
          "name": "stdout",
          "text": [
            "1 2 3 4 5 6 7 8 9\n",
            "[[1 2 3]\n",
            " [4 5 6]\n",
            " [7 8 9]]\n"
          ]
        }
      ]
    }
  ]
}