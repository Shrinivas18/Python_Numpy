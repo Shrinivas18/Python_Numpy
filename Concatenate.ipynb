{
  "nbformat": 4,
  "nbformat_minor": 0,
  "metadata": {
    "colab": {
      "provenance": [],
      "authorship_tag": "ABX9TyN+bDSA/tIYA3/sJLwxgde+",
      "include_colab_link": true
    },
    "kernelspec": {
      "name": "python3",
      "display_name": "Python 3"
    },
    "language_info": {
      "name": "python"
    }
  },
  "cells": [
    {
      "cell_type": "markdown",
      "metadata": {
        "id": "view-in-github",
        "colab_type": "text"
      },
      "source": [
        "<a href=\"https://colab.research.google.com/github/Shrinivas18/Python_Numpy/blob/main/Concatenate.ipynb\" target=\"_parent\"><img src=\"https://colab.research.google.com/assets/colab-badge.svg\" alt=\"Open In Colab\"/></a>"
      ]
    },
    {
      "cell_type": "code",
      "source": [
        "# Concatenate\n",
        "\n",
        "# Concatenate\n",
        "# Two or more arrays can be concatenated together using the concatenate function with a tuple of the arrays to be joined:\n",
        "\n",
        "# import numpy\n",
        "\n",
        "# array_1 = numpy.array([1,2,3])\n",
        "# array_2 = numpy.array([4,5,6])\n",
        "# array_3 = numpy.array([7,8,9])\n",
        "\n",
        "# print numpy.concatenate((array_1, array_2, array_3))    \n",
        "\n",
        "#Output\n",
        "# [1 2 3 4 5 6 7 8 9]\n",
        "\n",
        "# If an array has more than one dimension, it is possible to specify the axis along which multiple arrays are concatenated. By default, it\n",
        "# is along the first dimension.\n",
        "\n",
        "# import numpy\n",
        "\n",
        "# array_1 = numpy.array([[1,2,3],[0,0,0]])\n",
        "# array_2 = numpy.array([[0,0,0],[7,8,9]])\n",
        "\n",
        "# print numpy.concatenate((array_1, array_2), axis = 1)   \n",
        "\n",
        "#Output\n",
        "# [[1 2 3 0 0 0]\n",
        "#  [0 0 0 7 8 9]]\n",
        "\n",
        "# Task\n",
        "# You are given two integer arrays of size NxP and MxP (N & M are rows, and P is the column). Your task is to concatenate the arrays\n",
        "# along axis 0.\n",
        "\n",
        "# Input Format\n",
        "# The first line contains space separated integers N, M and P. \n",
        "# The next N lines contains the space separated elements of the P columns. \n",
        "# After that, the next M lines contains the space separated elements of the P columns.\n",
        "\n",
        "# Output Format\n",
        "# Print the concatenated array of size (N+M)xP.\n",
        "\n",
        "\n",
        "import numpy\n",
        "\n",
        "N = numpy.array([input().split() for i in range(1)], int)\n",
        "M = numpy.array([input().split() for i in range(1)], int)\n",
        "\n",
        "print(numpy.concatenate((N, M), axis = 0))\n"
      ],
      "metadata": {
        "colab": {
          "base_uri": "https://localhost:8080/"
        },
        "id": "3g6u_nMPSfXH",
        "outputId": "f0fae42e-1b1a-4627-c9c1-4c993e28ca08"
      },
      "execution_count": 31,
      "outputs": [
        {
          "output_type": "stream",
          "name": "stdout",
          "text": [
            "1 2 3 4 45\n",
            "2 1 43 12 31\n",
            "[[ 1  2  3  4 45]\n",
            " [ 2  1 43 12 31]]\n"
          ]
        }
      ]
    }
  ]
}