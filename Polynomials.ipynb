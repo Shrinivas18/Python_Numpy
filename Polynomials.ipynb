{
  "nbformat": 4,
  "nbformat_minor": 0,
  "metadata": {
    "colab": {
      "provenance": [],
      "authorship_tag": "ABX9TyPHbkmsKeU6cGRxawTicNuP",
      "include_colab_link": true
    },
    "kernelspec": {
      "name": "python3",
      "display_name": "Python 3"
    },
    "language_info": {
      "name": "python"
    }
  },
  "cells": [
    {
      "cell_type": "markdown",
      "metadata": {
        "id": "view-in-github",
        "colab_type": "text"
      },
      "source": [
        "<a href=\"https://colab.research.google.com/github/Shrinivas18/Python_Numpy/blob/main/Polynomials.ipynb\" target=\"_parent\"><img src=\"https://colab.research.google.com/assets/colab-badge.svg\" alt=\"Open In Colab\"/></a>"
      ]
    },
    {
      "cell_type": "code",
      "source": [
        "# Polynomials\n",
        "\n",
        "# poly\n",
        "# The poly tool returns the coefficients of a polynomial with the given sequence of roots.\n",
        "# print numpy.poly([-1, 1, 1, 10])        #Output : [  1 -11   9  11 -10]\n",
        "\n",
        "# roots\n",
        "# The roots tool returns the roots of a polynomial with the given coefficients.\n",
        "# print numpy.roots([1, 0, -1])           #Output : [-1.  1.]\n",
        "\n",
        "# polyint\n",
        "# The polyint tool returns an antiderivative (indefinite integral) of a polynomial.\n",
        "# print numpy.polyint([1, 1, 1])          #Output : [ 0.33333333  0.5         1.          0.        ]\n",
        "\n",
        "# polyder\n",
        "# The polyder tool returns the derivative of the specified order of a polynomial.\n",
        "# print numpy.polyder([1, 1, 1, 1])       #Output : [3 2 1]\n",
        "\n",
        "# polyval\n",
        "# The polyval tool evaluates the polynomial at specific value.\n",
        "# print numpy.polyval([1, -2, 0, 2], 4)   #Output : 34\n",
        "\n",
        "# polyfit\n",
        "# The polyfit tool fits a polynomial of a specified order to a set of data using a least-squares approach.\n",
        "# print numpy.polyfit([0,1,-1, 2, -2], [0,1,1, 4, 4], 2)\n",
        "#Output : [  1.00000000e+00   0.00000000e+00  -3.97205465e-16]\n",
        "\n",
        "# The functions polyadd, polysub, polymul, and polydiv also handle proper addition, subtraction, multiplication, and division of\n",
        "# polynomial coefficients, respectively.\n",
        "\n",
        "# Task\n",
        "# You are given the coefficients of a polynomial P. \n",
        "# Your task is to find the value of P at point x.\n",
        "\n",
        "# Input Format\n",
        "# The first line contains the space separated value of the coefficients in P. \n",
        "# The second line contains the value of x.\n",
        "\n",
        "# Output Format\n",
        "# Print the desired value.\n",
        "\n",
        "# Sample Input\n",
        "# 1.1 2 3\n",
        "# 0\n",
        "\n",
        "# Sample Output\n",
        "# 3.0\n",
        "\n",
        "import numpy\n",
        "\n",
        "n = list(map(float,input().split()));\n",
        "m = input();\n",
        "\n",
        "print(numpy.polyval(n,int(m)));"
      ],
      "metadata": {
        "colab": {
          "base_uri": "https://localhost:8080/"
        },
        "id": "_pzzeRjvJsAi",
        "outputId": "f4ccb773-82a2-45a6-fcf4-7166b1b0a75c"
      },
      "execution_count": 9,
      "outputs": [
        {
          "output_type": "stream",
          "name": "stdout",
          "text": [
            "1 2 3 4\n",
            "2\n",
            "26.0\n"
          ]
        }
      ]
    }
  ]
}