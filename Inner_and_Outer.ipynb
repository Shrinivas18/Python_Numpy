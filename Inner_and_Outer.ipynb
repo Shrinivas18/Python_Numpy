{
  "nbformat": 4,
  "nbformat_minor": 0,
  "metadata": {
    "colab": {
      "provenance": [],
      "authorship_tag": "ABX9TyPOta3PGKoUcyjz05LfD2M8",
      "include_colab_link": true
    },
    "kernelspec": {
      "name": "python3",
      "display_name": "Python 3"
    },
    "language_info": {
      "name": "python"
    }
  },
  "cells": [
    {
      "cell_type": "markdown",
      "metadata": {
        "id": "view-in-github",
        "colab_type": "text"
      },
      "source": [
        "<a href=\"https://colab.research.google.com/github/Shrinivas18/Python_Numpy/blob/main/Inner_and_Outer.ipynb\" target=\"_parent\"><img src=\"https://colab.research.google.com/assets/colab-badge.svg\" alt=\"Open In Colab\"/></a>"
      ]
    },
    {
      "cell_type": "code",
      "source": [
        "# Inner and Outer\n",
        "\n",
        "# inner\n",
        "# The inner tool returns the inner product of two arrays.\n",
        "\n",
        "# import numpy\n",
        "\n",
        "# A = numpy.array([0, 1])\n",
        "# B = numpy.array([3, 4])\n",
        "\n",
        "# print numpy.inner(A, B)     #Output : 4\n",
        "\n",
        "# outer\n",
        "# The outer tool returns the outer product of two arrays.\n",
        "\n",
        "# import numpy\n",
        "\n",
        "# A = numpy.array([0, 1])\n",
        "# B = numpy.array([3, 4])\n",
        "\n",
        "# print numpy.outer(A, B)     #Output : [[0 0]\n",
        "#                             #          [3 4]]\n",
        "\n",
        "# Task\n",
        "# You are given two arrays: A and B. \n",
        "# Your task is to compute their inner and outer product.\n",
        "\n",
        "# Input Format\n",
        "# The first line contains the space separated elements of array A. \n",
        "# The second line contains the space separated elements of array B.\n",
        "\n",
        "# Output Format\n",
        "# First, print the inner product. \n",
        "# Second, print the outer product.\n",
        "\n",
        "\n",
        "import numpy\n",
        "\n",
        "A = numpy.array(input().split(), int)\n",
        "B = numpy.array(input().split(), int)\n",
        "\n",
        "print(numpy.inner(A, B))\n",
        "print(numpy.outer(A, B))"
      ],
      "metadata": {
        "colab": {
          "base_uri": "https://localhost:8080/"
        },
        "id": "3g6u_nMPSfXH",
        "outputId": "86dbb8e1-59ca-45f0-f5a9-76d0d7e787b7"
      },
      "execution_count": 17,
      "outputs": [
        {
          "output_type": "stream",
          "name": "stdout",
          "text": [
            "1 2 3 4\n",
            "5 6 7 8\n",
            "70\n",
            "[[ 5  6  7  8]\n",
            " [10 12 14 16]\n",
            " [15 18 21 24]\n",
            " [20 24 28 32]]\n"
          ]
        }
      ]
    }
  ]
}