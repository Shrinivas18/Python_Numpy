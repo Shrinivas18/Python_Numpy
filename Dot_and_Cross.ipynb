{
  "nbformat": 4,
  "nbformat_minor": 0,
  "metadata": {
    "colab": {
      "provenance": [],
      "authorship_tag": "ABX9TyNl8xIqvB/mmdG1CvcvmtTB",
      "include_colab_link": true
    },
    "kernelspec": {
      "name": "python3",
      "display_name": "Python 3"
    },
    "language_info": {
      "name": "python"
    }
  },
  "cells": [
    {
      "cell_type": "markdown",
      "metadata": {
        "id": "view-in-github",
        "colab_type": "text"
      },
      "source": [
        "<a href=\"https://colab.research.google.com/github/Shrinivas18/Python_Numpy/blob/main/Dot_and_Cross.ipynb\" target=\"_parent\"><img src=\"https://colab.research.google.com/assets/colab-badge.svg\" alt=\"Open In Colab\"/></a>"
      ]
    },
    {
      "cell_type": "code",
      "source": [
        "# Dot and Cross\n",
        "\n",
        "# Task\n",
        "# You are given two arrays A and B. Both have dimensions of NxN. \n",
        "# Your task is to compute their matrix product.\n",
        "\n",
        "# Input Format\n",
        "# The first line contains the integer N. \n",
        "# The next N lines contains N space separated integers of array A. \n",
        "# The following N lines contains N space separated integers of array B.\n",
        "\n",
        "# Output Format\n",
        "# Print the matrix multiplication of A and B.\n",
        "\n",
        "\n",
        "import numpy\n",
        "\n",
        "N = int(input())\n",
        "A = numpy.array([input().split() for i in range(N)], int)\n",
        "B = numpy.array([input().split() for i in range(N)], int)\n",
        "print(f\"Dot Product is :\\n {numpy.dot(A, B)}\\n\")\n",
        "print(f\"Cross Product is :\\n {numpy.cross(A, B)}\")"
      ],
      "metadata": {
        "colab": {
          "base_uri": "https://localhost:8080/"
        },
        "id": "3g6u_nMPSfXH",
        "outputId": "6f422e4f-9562-441e-de4e-d9e00c58f031"
      },
      "execution_count": 5,
      "outputs": [
        {
          "output_type": "stream",
          "name": "stdout",
          "text": [
            "2\n",
            "1 2\n",
            "2 3\n",
            "4 1\n",
            "3 2\n",
            "Dot Product is :\n",
            " [[10  5]\n",
            " [17  8]]\n",
            "\n",
            "Cross Product is :\n",
            " [-7 -5]\n"
          ]
        }
      ]
    }
  ]
}