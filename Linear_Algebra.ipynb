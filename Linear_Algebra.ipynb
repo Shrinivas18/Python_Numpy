{
  "nbformat": 4,
  "nbformat_minor": 0,
  "metadata": {
    "colab": {
      "provenance": [],
      "authorship_tag": "ABX9TyOzNc42wVIr8kDYOVJA04fX",
      "include_colab_link": true
    },
    "kernelspec": {
      "name": "python3",
      "display_name": "Python 3"
    },
    "language_info": {
      "name": "python"
    }
  },
  "cells": [
    {
      "cell_type": "markdown",
      "metadata": {
        "id": "view-in-github",
        "colab_type": "text"
      },
      "source": [
        "<a href=\"https://colab.research.google.com/github/Shrinivas18/Python_Numpy/blob/main/Linear_Algebra.ipynb\" target=\"_parent\"><img src=\"https://colab.research.google.com/assets/colab-badge.svg\" alt=\"Open In Colab\"/></a>"
      ]
    },
    {
      "cell_type": "code",
      "source": [
        "# Linear Algebra\n",
        "\n",
        "# The NumPy module also comes with a number of built-in routines for linear algebra calculations. These can be found in the sub-module\n",
        "# linalg.\n",
        "\n",
        "# linalg.det\n",
        "# The linalg.det tool computes the determinant of an array.\n",
        "# print numpy.linalg.det([[1 , 2], [2, 1]])       #Output : -3.0\n",
        "\n",
        "# linalg.eig\n",
        "# The linalg.eig computes the eigenvalues and right eigenvectors of a square array.\n",
        "# vals, vecs = numpy.linalg.eig([[1 , 2], [2, 1]])\n",
        "# print vals                                      #Output : [ 3. -1.]\n",
        "# print vecs                                      #Output : [[ 0.70710678 -0.70710678]\n",
        "                                                  #          [ 0.70710678  0.70710678]]\n",
        "                                                  \n",
        "# linalg.inv\n",
        "# The linalg.inv tool computes the (multiplicative) inverse of a matrix.\n",
        "# print numpy.linalg.inv([[1 , 2], [2, 1]])       #Output : [[-0.33333333  0.66666667]\n",
        "                                                  #          [ 0.66666667 -0.33333333]]\n",
        "                                                  \n",
        "# Task\n",
        "# You are given a square matrix A with dimensions NxN. Your task is to find the determinant.\n",
        "\n",
        "# Input Format\n",
        "# The first line contains the integer N. \n",
        "# The next N lines contains the  space separated elements of array A.\n",
        "\n",
        "# Output Format\n",
        "# Print the determinant of A.\n",
        "\n",
        "\n",
        "import numpy as np\n",
        " \n",
        "A = np.array([[6, 1, 1],\n",
        "              [4, -2, 5],\n",
        "              [2, 8, 7]])\n",
        " \n",
        "# Rank of a matrix\n",
        "print(\"Rank of A:\", np.linalg.matrix_rank(A))\n",
        " \n",
        "# Trace of matrix A\n",
        "print(\"\\nTrace of A:\", np.trace(A))\n",
        " \n",
        "# Determinant of a matrix\n",
        "print(\"\\nDeterminant of A:\", np.linalg.det(A))\n",
        " \n",
        "# Inverse of matrix A\n",
        "print(\"\\nInverse of A:\\n\", np.linalg.inv(A))\n",
        " \n",
        "print(\"\\nMatrix A raised to power 3:\\n\",\n",
        "           np.linalg.matrix_power(A, 3))"
      ],
      "metadata": {
        "colab": {
          "base_uri": "https://localhost:8080/"
        },
        "id": "_pzzeRjvJsAi",
        "outputId": "7d75a1e7-e6ae-4fdf-d8c2-778124304303"
      },
      "execution_count": 19,
      "outputs": [
        {
          "output_type": "stream",
          "name": "stdout",
          "text": [
            "Rank of A: 3\n",
            "\n",
            "Trace of A: 11\n",
            "\n",
            "Determinant of A: -306.0\n",
            "\n",
            "Inverse of A:\n",
            " [[ 0.17647059 -0.00326797 -0.02287582]\n",
            " [ 0.05882353 -0.13071895  0.08496732]\n",
            " [-0.11764706  0.1503268   0.05228758]]\n",
            "\n",
            "Matrix A raised to power 3:\n",
            " [[336 162 228]\n",
            " [406 162 469]\n",
            " [698 702 905]]\n"
          ]
        }
      ]
    }
  ]
}