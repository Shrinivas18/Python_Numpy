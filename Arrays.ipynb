{
  "nbformat": 4,
  "nbformat_minor": 0,
  "metadata": {
    "colab": {
      "provenance": [],
      "authorship_tag": "ABX9TyNw6yKf4Pe46OAzQORkz+hU",
      "include_colab_link": true
    },
    "kernelspec": {
      "name": "python3",
      "display_name": "Python 3"
    },
    "language_info": {
      "name": "python"
    }
  },
  "cells": [
    {
      "cell_type": "markdown",
      "metadata": {
        "id": "view-in-github",
        "colab_type": "text"
      },
      "source": [
        "<a href=\"https://colab.research.google.com/github/Shrinivas18/Python_Numpy/blob/main/Arrays.ipynb\" target=\"_parent\"><img src=\"https://colab.research.google.com/assets/colab-badge.svg\" alt=\"Open In Colab\"/></a>"
      ]
    },
    {
      "cell_type": "code",
      "source": [
        "# Arrays\n",
        "\n",
        "# The NumPy (Numeric Python) package helps us manipulate large arrays and matrices of numeric data.\n",
        "\n",
        "# To use the NumPy module, we need to import it using:\n",
        "# import numpy\n",
        "\n",
        "# Arrays\n",
        "# A NumPy array is a grid of values. They are similar to lists, except that every element of an array must be the same type.\n",
        "\n",
        "# import numpy\n",
        "\n",
        "# a = numpy.array([1,2,3,4,5])\n",
        "# print a[1]          #2\n",
        "\n",
        "# b = numpy.array([1,2,3,4,5],float)\n",
        "# print b[1]          #2.0\n",
        "\n",
        "# In the above example, numpy.array() is used to convert a list into a NumPy array. The second argument (float) can be used to set the\n",
        "# type of array elements.\n",
        "\n",
        "# Task\n",
        "\n",
        "# You are given a space separated list of numbers. \n",
        "# Your task is to print a reversed NumPy array with the element type float.\n",
        "\n",
        "# Input Format\n",
        "# A single line of input containing space separated numbers.\n",
        "\n",
        "# Output Format\n",
        "# Print the reverse NumPy array with type float.\n",
        "\n",
        "import numpy\n",
        "\n",
        "lis = numpy.array(input().split(' '), float)\n",
        "print(lis[::-1])"
      ],
      "metadata": {
        "colab": {
          "base_uri": "https://localhost:8080/"
        },
        "id": "3g6u_nMPSfXH",
        "outputId": "baeadaee-493e-4d70-c791-1c9da36c9445"
      },
      "execution_count": 2,
      "outputs": [
        {
          "output_type": "stream",
          "name": "stdout",
          "text": [
            "1 2 3 4 5 6 7 8 9 10\n",
            "[10.  9.  8.  7.  6.  5.  4.  3.  2.  1.]\n"
          ]
        }
      ]
    }
  ]
}