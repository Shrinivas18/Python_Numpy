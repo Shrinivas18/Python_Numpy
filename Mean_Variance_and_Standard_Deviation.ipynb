{
  "nbformat": 4,
  "nbformat_minor": 0,
  "metadata": {
    "colab": {
      "provenance": [],
      "authorship_tag": "ABX9TyMkUNtahb77F/C7zJrj46pu",
      "include_colab_link": true
    },
    "kernelspec": {
      "name": "python3",
      "display_name": "Python 3"
    },
    "language_info": {
      "name": "python"
    }
  },
  "cells": [
    {
      "cell_type": "markdown",
      "metadata": {
        "id": "view-in-github",
        "colab_type": "text"
      },
      "source": [
        "<a href=\"https://colab.research.google.com/github/Shrinivas18/Python_Numpy/blob/main/Mean_Variance_and_Standard_Deviation.ipynb\" target=\"_parent\"><img src=\"https://colab.research.google.com/assets/colab-badge.svg\" alt=\"Open In Colab\"/></a>"
      ]
    },
    {
      "cell_type": "code",
      "source": [
        "# Mean, Var, and Std\n",
        "\n",
        "# mean\n",
        "# The mean tool computes the arithmetic mean along the specified axis.\n",
        "\n",
        "# import numpy\n",
        "\n",
        "# my_array = numpy.array([ [1, 2], [3, 4] ])\n",
        "\n",
        "# print numpy.mean(my_array, axis = 0)        #Output : [ 2.  3.]\n",
        "# print numpy.mean(my_array, axis = 1)        #Output : [ 1.5  3.5]\n",
        "# print numpy.mean(my_array, axis = None)     #Output : 2.5\n",
        "# print numpy.mean(my_array)                  #Output : 2.5\n",
        "# By default, the axis is None. Therefore, it computes the mean of the flattened array.\n",
        "\n",
        "# var\n",
        "# The var tool computes the arithmetic variance along the specified axis.\n",
        "\n",
        "# import numpy\n",
        "\n",
        "# my_array = numpy.array([ [1, 2], [3, 4] ])\n",
        "\n",
        "# print numpy.var(my_array, axis = 0)         #Output : [ 1.  1.]\n",
        "# print numpy.var(my_array, axis = 1)         #Output : [ 0.25  0.25]\n",
        "# print numpy.var(my_array, axis = None)      #Output : 1.25\n",
        "# print numpy.var(my_array)                   #Output : 1.25\n",
        "# By default, the axis is None. Therefore, it computes the variance of the flattened array.\n",
        "\n",
        "# std\n",
        "# The std tool computes the arithmetic standard deviation along the specified axis.\n",
        "\n",
        "# import numpy\n",
        "\n",
        "# my_array = numpy.array([ [1, 2], [3, 4] ])\n",
        "\n",
        "# print numpy.std(my_array, axis = 0)         #Output : [ 1.  1.]\n",
        "# print numpy.std(my_array, axis = 1)         #Output : [ 0.5  0.5]\n",
        "# print numpy.std(my_array, axis = None)      #Output : 1.11803398875\n",
        "# print numpy.std(my_array)                   #Output : 1.11803398875\n",
        "# By default, the axis is None. Therefore, it computes the standard deviation of the flattened array.\n",
        "\n",
        "# Task\n",
        "# You are given a 2-D array of size NxM. \n",
        "# Your task is to find:\n",
        "# 1. The mean along axis 1 \n",
        "# 2. The var along axis 0\n",
        "# 3. The std along axis none\n",
        "\n",
        "# Input Format\n",
        "# The first line contains the space separated values of N and M. \n",
        "# The next N lines contains M space separated integers.\n",
        "\n",
        "# Output Format\n",
        "# First, print the mean. \n",
        "# Second, print the var. \n",
        "# Third, print the std.\n",
        "\n",
        "\n",
        "import numpy as np\n",
        "  \n",
        "  \n",
        "# Original array\n",
        "array = np.arange(10)\n",
        "print(array)\n",
        "  \n",
        "r1 = np.mean(array)\n",
        "print(\"\\nMean: \", r1)\n",
        "  \n",
        "r2 = np.std(array)\n",
        "print(\"\\nstd: \", r2)\n",
        "  \n",
        "r3 = np.var(array)\n",
        "print(\"\\nvariance: \", r3)"
      ],
      "metadata": {
        "colab": {
          "base_uri": "https://localhost:8080/"
        },
        "id": "_pzzeRjvJsAi",
        "outputId": "68156e43-75fa-402a-c184-e5618c5a37c3"
      },
      "execution_count": 21,
      "outputs": [
        {
          "output_type": "stream",
          "name": "stdout",
          "text": [
            "[0 1 2 3 4 5 6 7 8 9]\n",
            "\n",
            "Mean:  4.5\n",
            "\n",
            "std:  2.8722813232690143\n",
            "\n",
            "variance:  8.25\n"
          ]
        }
      ]
    }
  ]
}